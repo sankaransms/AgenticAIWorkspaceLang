{
 "cells": [
  {
   "cell_type": "markdown",
   "metadata": {},
   "source": [
    "Link: https://langchain-ai.github.io/langgraph/tutorials/introduction/"
   ]
  },
  {
   "cell_type": "code",
   "execution_count": 1,
   "metadata": {},
   "outputs": [
    {
     "name": "stdout",
     "output_type": "stream",
     "text": [
      "==================================\u001b[1m Ai Message \u001b[0m==================================\n",
      "Name: Model\n",
      "\n",
      "So you said you were researching ocean mammals?\n",
      "================================\u001b[1m Human Message \u001b[0m=================================\n",
      "Name: Lance\n",
      "\n",
      "Yes, that's right.\n",
      "==================================\u001b[1m Ai Message \u001b[0m==================================\n",
      "Name: Model\n",
      "\n",
      "Great, what would you like to learn about.\n",
      "================================\u001b[1m Human Message \u001b[0m=================================\n",
      "Name: Lance\n",
      "\n",
      "I want to learn about the best place to see Orcas in the US.\n"
     ]
    }
   ],
   "source": [
    "from pprint import pprint\n",
    "from langchain_core.messages import AIMessage, HumanMessage\n",
    "\n",
    "messages = [AIMessage(content=f\"So you said you were researching ocean mammals?\", name=\"Model\")]\n",
    "messages.append(HumanMessage(content=f\"Yes, that's right.\",name=\"Lance\"))\n",
    "messages.append(AIMessage(content=f\"Great, what would you like to learn about.\", name=\"Model\"))\n",
    "messages.append(HumanMessage(content=f\"I want to learn about the best place to see Orcas in the US.\", name=\"Lance\"))\n",
    "\n",
    "for m in messages:\n",
    "    m.pretty_print()"
   ]
  },
  {
   "cell_type": "code",
   "execution_count": 4,
   "metadata": {},
   "outputs": [],
   "source": [
    "import os\n",
    "from dotenv import load_dotenv\n",
    "load_dotenv()\n",
    "\n",
    "os.environ[\"GROQ_API_KEY\"]=os.getenv(\"GROQ_API_KEY\")"
   ]
  },
  {
   "cell_type": "code",
   "execution_count": 3,
   "metadata": {},
   "outputs": [
    {
     "data": {
      "text/plain": [
       "AIMessage(content='Watching orcas (also known as killer whales) in their natural habitat can be an incredible experience. In the United States, there are several locations known for their orca populations. Here are a few notable spots:\\n\\n1. **San Juan Islands, Washington**: This is one of the best places in the U.S. to see orcas. The San Juan Islands are part of the Salish Sea and home to the Southern Resident killer whale population. Whale watching tours are abundant from May to September, which is the prime time to catch a glimpse of these magnificent creatures.\\n\\n2. **Southeast Alaska**: The Inside Passage and the waters around Juneau, Sitka, and Prince William Sound are also good areas to see orcas. The Northern Resident orcas can be observed here, and many cruise ships and local small boat tours offer whale watching experiences.\\n\\n3. **Monterey Bay, California**: While less common than in the northern parts of the U.S., orcas can occasionally be seen in Monterey Bay, especially during migrations. Whale watching tours are available year-round, though sightings are less frequent than in the Pacific Northwest.\\n\\n4. **Oregon Coast**: Though less frequent than in Washington, orcas can sometimes be spotted along the Oregon Coast, particularly during the summer and fall months. Whale watching tours are available from various ports on the coast.\\n\\n5. **Maine Coast**: Orcas are not commonly seen in the waters of the northeastern United States, but they can occasionally be spotted off the coast of Maine. Whale watching tours here usually focus more on humpback whales and other species, but orcas have been sighted.\\n\\nFor the best chance to see orcas, the San Juan Islands and Southeast Alaska are highly recommended, especially between May and September. Always ensure you choose a reputable tour operator that prioritizes the safety and well-being of both the wildlife and passengers.', additional_kwargs={}, response_metadata={'token_usage': {'completion_tokens': 379, 'prompt_tokens': 90, 'total_tokens': 469, 'completion_time': 0.954337564, 'prompt_time': 0.006465055, 'queue_time': 0.022096943, 'total_time': 0.960802619}, 'model_name': 'qwen-2.5-32b', 'system_fingerprint': 'fp_7b9ecfcd5f', 'finish_reason': 'stop', 'logprobs': None}, id='run-8b53aadf-7695-4256-a324-759060b8be6a-0', usage_metadata={'input_tokens': 90, 'output_tokens': 379, 'total_tokens': 469})"
      ]
     },
     "execution_count": 3,
     "metadata": {},
     "output_type": "execute_result"
    }
   ],
   "source": [
    "from langchain_groq import ChatGroq\n",
    "\n",
    "llm=ChatGroq(model=\"qwen-2.5-32b\")\n",
    "result=llm.invoke(messages)\n",
    "result"
   ]
  },
  {
   "cell_type": "code",
   "execution_count": null,
   "metadata": {},
   "outputs": [
    {
     "data": {
      "text/plain": [
       "AIMessage(content='', additional_kwargs={'tool_calls': [{'id': 'call_dkxa', 'function': {'arguments': '{\"a\": 2, \"b\": 3}', 'name': 'add'}, 'type': 'function'}]}, response_metadata={'token_usage': {'completion_tokens': 25, 'prompt_tokens': 173, 'total_tokens': 198, 'completion_time': 0.063069326, 'prompt_time': 0.010394188, 'queue_time': 0.020029615, 'total_time': 0.073463514}, 'model_name': 'qwen-2.5-32b', 'system_fingerprint': 'fp_7b9ecfcd5f', 'finish_reason': 'tool_calls', 'logprobs': None}, id='run-fe66152c-e691-4208-b7cd-eb1830f8f411-0', tool_calls=[{'name': 'add', 'args': {'a': 2, 'b': 3}, 'id': 'call_dkxa', 'type': 'tool_call'}], usage_metadata={'input_tokens': 173, 'output_tokens': 25, 'total_tokens': 198})"
      ]
     },
     "execution_count": 5,
     "metadata": {},
     "output_type": "execute_result"
    }
   ],
   "source": [
    "# Define llm\n",
    "llm=ChatGroq(model=\"qwen-2.5-32b\")\n",
    "\n",
    "# Define the function\n",
    "def add(a:int,b:int)-> int:\n",
    "    return a+b\n",
    "\n",
    "# Bind the tool with llm\n",
    "llm_with_tools=llm.bind_tools([add])\n",
    "\n",
    "tool_call=llm_with_tools.invoke([HumanMessage(content=f\"What is 2 plus 3\", name=\"Lance\")])\n",
    "tool_call"
   ]
  },
  {
   "cell_type": "code",
   "execution_count": 6,
   "metadata": {},
   "outputs": [
    {
     "data": {
      "text/plain": [
       "[{'name': 'add',\n",
       "  'args': {'a': 2, 'b': 3},\n",
       "  'id': 'call_dkxa',\n",
       "  'type': 'tool_call'}]"
      ]
     },
     "execution_count": 6,
     "metadata": {},
     "output_type": "execute_result"
    }
   ],
   "source": [
    "tool_call.tool_calls"
   ]
  },
  {
   "cell_type": "code",
   "execution_count": 7,
   "metadata": {},
   "outputs": [],
   "source": [
    "from typing_extensions import TypedDict\n",
    "from langchain_core.messages import AnyMessage\n",
    "from typing import Annotated\n",
    "from langgraph.graph.message import add_messages\n",
    "\n",
    "class MessageState(TypedDict):\n",
    "    messages:Annotated[list[AnyMessage],add_messages]"
   ]
  },
  {
   "cell_type": "code",
   "execution_count": 8,
   "metadata": {},
   "outputs": [
    {
     "data": {
      "text/plain": [
       "[AIMessage(content='Hello! How can I assist you?', additional_kwargs={}, response_metadata={}, name='Model', id='ea201391-4e6b-4f47-a07a-b90147507644'),\n",
       " HumanMessage(content=\"I'm looking for information on generative ai.\", additional_kwargs={}, response_metadata={}, name='Krish', id='7aec5e54-ce80-4341-8228-109178e21e04'),\n",
       " AIMessage(content='Sure, I can help with that. What specifically are you interested in?', additional_kwargs={}, response_metadata={}, name='Model', id='0bf4c66a-908f-4d4e-bf9b-f5d1ea9ac856')]"
      ]
     },
     "execution_count": 8,
     "metadata": {},
     "output_type": "execute_result"
    }
   ],
   "source": [
    "initial_message=[AIMessage(content=\"Hello! How can I assist you?\", name=\"Model\"),\n",
    "                 HumanMessage(content=\"I'm looking for information on generative ai.\", name=\"Krish\")\n",
    "                ]\n",
    "# New message to add\n",
    "new_message = AIMessage(content=\"Sure, I can help with that. What specifically are you interested in?\", name=\"Model\")\n",
    "\n",
    "add_messages(initial_message,new_message)"
   ]
  },
  {
   "cell_type": "markdown",
   "metadata": {},
   "source": [
    "## Chatbot 1 "
   ]
  },
  {
   "cell_type": "markdown",
   "metadata": {},
   "source": [
    "Link: https://langchain-ai.github.io/langgraph/tutorials/introduction/"
   ]
  },
  {
   "cell_type": "code",
   "execution_count": 14,
   "metadata": {},
   "outputs": [
    {
     "data": {
      "image/png": "[encoded data removed]",
      "text/plain": [
       "<IPython.core.display.Image object>"
      ]
     },
     "metadata": {},
     "output_type": "display_data"
    }
   ],
   "source": [
    "from typing_extensions import TypedDict\n",
    "from langchain_core.messages import AnyMessage\n",
    "from typing import Annotated\n",
    "from langgraph.graph.message import add_messages\n",
    "from IPython.display import Image, display\n",
    "from langgraph.graph import StateGraph, START, END\n",
    "\n",
    "# Create a state graph\n",
    "class MessageState(TypedDict):\n",
    "    messages:Annotated[list[AnyMessage],add_messages]\n",
    "    \n",
    "\n",
    "## 1) llm to tool calling llm node\n",
    "# Define llm\n",
    "llm=ChatGroq(model=\"qwen-2.5-32b\")\n",
    "\n",
    "# Define the function to form as a tool\n",
    "def add(a:int,b:int)-> int:\n",
    "    return a+b\n",
    "\n",
    "# Bind the tool with llm\n",
    "llm_with_tools=llm.bind_tools([add])\n",
    "\n",
    "# Deine the function to form tool_calling_llm Node\n",
    "def tool_calling_llm(state: MessageState):\n",
    "    return {\"messages\": [llm_with_tools.invoke(state[\"messages\"])]}\n",
    "\n",
    "\n",
    "\n",
    "## 2) Build Graph\n",
    "builder = StateGraph(MessageState)\n",
    "\n",
    "# Node\n",
    "builder.add_node(\"tool_calling_llm\", tool_calling_llm)\n",
    "\n",
    "# Logic\n",
    "builder.add_edge(START, \"tool_calling_llm\")\n",
    "builder.add_edge(\"tool_calling_llm\", END)\n",
    "\n",
    "# Add the node and edges\n",
    "graph = builder.compile()\n",
    "\n",
    "# View\n",
    "display(Image(graph.get_graph().draw_mermaid_png()))"
   ]
  },
  {
   "cell_type": "code",
   "execution_count": 15,
   "metadata": {},
   "outputs": [
    {
     "name": "stdout",
     "output_type": "stream",
     "text": [
      "================================\u001b[1m Human Message \u001b[0m=================================\n",
      "\n",
      "What is 2 minus 3\n",
      "==================================\u001b[1m Ai Message \u001b[0m==================================\n",
      "Tool Calls:\n",
      "  add (call_2w7d)\n",
      " Call ID: call_2w7d\n",
      "  Args:\n",
      "    a: 2\n",
      "    b: -3\n"
     ]
    }
   ],
   "source": [
    "messages=graph.invoke({\"messages\":HumanMessage(content=\"What is 2 minus 3\")})\n",
    "for m in messages['messages']:\n",
    "    m.pretty_print()"
   ]
  },
  {
   "cell_type": "markdown",
   "metadata": {},
   "source": [
    "## Chatbot 2"
   ]
  },
  {
   "cell_type": "markdown",
   "metadata": {},
   "source": [
    "Link: https://langchain-ai.github.io/langgraph/tutorials/introduction/"
   ]
  },
  {
   "cell_type": "code",
   "execution_count": 25,
   "metadata": {},
   "outputs": [
    {
     "data": {
      "image/png": "[encoded data removed]",
      "text/plain": [
       "<IPython.core.display.Image object>"
      ]
     },
     "metadata": {},
     "output_type": "display_data"
    }
   ],
   "source": [
    "from typing_extensions import TypedDict\n",
    "from langchain_core.messages import AnyMessage\n",
    "from typing import Annotated\n",
    "from langgraph.graph.message import add_messages\n",
    "from IPython.display import Image, display\n",
    "from langgraph.graph import StateGraph, START, END\n",
    "from langgraph.prebuilt import ToolNode\n",
    "from langgraph.prebuilt import tools_condition\n",
    "\n",
    "import os\n",
    "from dotenv import load_dotenv\n",
    "load_dotenv()\n",
    "os.environ[\"GROQ_API_KEY\"]=os.getenv(\"GROQ_API_KEY\")\n",
    "\n",
    "#from langgraph.graph import MessagesState\n",
    "# (or)\n",
    "# Create a state graph\n",
    "class MessageState(TypedDict):\n",
    "    messages:Annotated[list[AnyMessage],add_messages]\n",
    "    \n",
    "\n",
    "## 1) llm to tool calling llm node\n",
    "# Define llm\n",
    "llm=ChatGroq(model=\"qwen-2.5-32b\")\n",
    "\n",
    "# Define the function to form as a tool\n",
    "def multiply(a: int, b: int) -> int:\n",
    "    \"\"\"Multiply a and b.\n",
    "\n",
    "    Args:\n",
    "        a: first int\n",
    "        b: second int\n",
    "    \"\"\"\n",
    "    return a * b\n",
    "\n",
    "# Bind the tool with llm\n",
    "llm_with_tools = llm.bind_tools([multiply])\n",
    "\n",
    "# Deine the function to form tool_calling_llm Node\n",
    "def tool_calling_llm(state: MessageState):\n",
    "    return {\"messages\": [llm_with_tools.invoke(state[\"messages\"])]}\n",
    "\n",
    "\n",
    "## 2) Build Graph\n",
    "builder = StateGraph(MessageState)\n",
    "\n",
    "# Create Node\n",
    "builder.add_node(\"tool_calling_llm\", tool_calling_llm)\n",
    "builder.add_node(\"tools\", ToolNode([multiply]))\n",
    "\n",
    "#  Create Edges\n",
    "builder.add_edge(START, \"tool_calling_llm\")\n",
    "\n",
    "# Conditional edges\n",
    "builder.add_conditional_edges(\n",
    "    \"tool_calling_llm\",\n",
    "    # If the latest message (result) from assistant is a tool call -> tools_condition routes to tools\n",
    "    # If the latest message (result) from assistant is a not a tool call -> tools_condition routes to END\n",
    "    tools_condition,\n",
    ")\n",
    "\n",
    "builder.add_edge(\"tools\", END)\n",
    "\n",
    "graph = builder.compile()\n",
    "\n",
    "# View\n",
    "display(Image(graph.get_graph().draw_mermaid_png()))"
   ]
  },
  {
   "cell_type": "markdown",
   "metadata": {},
   "source": [
    "Automatically the tool is called baes on our input"
   ]
  },
  {
   "cell_type": "code",
   "execution_count": 26,
   "metadata": {},
   "outputs": [
    {
     "name": "stdout",
     "output_type": "stream",
     "text": [
      "================================\u001b[1m Human Message \u001b[0m=================================\n",
      "\n",
      "Hello, what is 2 multiplied by 2? .\n",
      "==================================\u001b[1m Ai Message \u001b[0m==================================\n",
      "Tool Calls:\n",
      "  multiply (call_1q5a)\n",
      " Call ID: call_1q5a\n",
      "  Args:\n",
      "    a: 2\n",
      "    b: 2\n",
      "=================================\u001b[1m Tool Message \u001b[0m=================================\n",
      "Name: multiply\n",
      "\n",
      "4\n"
     ]
    }
   ],
   "source": [
    "from langchain_core.messages import HumanMessage\n",
    "messages = [HumanMessage(content=\"Hello, what is 2 multiplied by 2? .\")]\n",
    "messages = graph.invoke({\"messages\": messages})\n",
    "for m in messages['messages']:\n",
    "    m.pretty_print()"
   ]
  },
  {
   "cell_type": "markdown",
   "metadata": {},
   "source": [
    "Without tool call"
   ]
  },
  {
   "cell_type": "code",
   "execution_count": 27,
   "metadata": {},
   "outputs": [
    {
     "name": "stdout",
     "output_type": "stream",
     "text": [
      "================================\u001b[1m Human Message \u001b[0m=================================\n",
      "\n",
      "Who are you\n",
      "==================================\u001b[1m Ai Message \u001b[0m==================================\n",
      "\n",
      "I am Qwen, a large language model created by Alibaba Cloud. I can answer questions, provide information, and assist with a variety of tasks. How can I assist you today?\n"
     ]
    }
   ],
   "source": [
    "from langchain_core.messages import HumanMessage\n",
    "messages = [HumanMessage(content=\"Who are you\")]\n",
    "messages = graph.invoke({\"messages\": messages})\n",
    "for m in messages['messages']:\n",
    "    m.pretty_print()"
   ]
  },
  {
   "cell_type": "markdown",
   "metadata": {},
   "source": [
    "## Chatbot 3 (HW)"
   ]
  },
  {
   "cell_type": "code",
   "execution_count": null,
   "metadata": {},
   "outputs": [
    {
     "data": {
      "image/png": "[encoded data removed]",
      "text/plain": [
       "<IPython.core.display.Image object>"
      ]
     },
     "metadata": {},
     "output_type": "display_data"
    }
   ],
   "source": [
    "from typing_extensions import TypedDict\n",
    "from langchain_core.messages import AnyMessage\n",
    "from typing import Annotated\n",
    "from langgraph.graph.message import add_messages\n",
    "from IPython.display import Image, display\n",
    "from langgraph.graph import StateGraph, START, END\n",
    "from langgraph.prebuilt import ToolNode\n",
    "from langgraph.prebuilt import tools_condition\n",
    "\n",
    "import os\n",
    "from dotenv import load_dotenv\n",
    "load_dotenv()\n",
    "os.environ[\"GROQ_API_KEY\"]=os.getenv(\"GROQ_API_KEY\")\n",
    "\n",
    "#from langgraph.graph import MessagesState\n",
    "# (or)\n",
    "# Create a state graph\n",
    "class MessageState(TypedDict):\n",
    "    messages:Annotated[list[AnyMessage],add_messages]\n",
    "    \n",
    "\n",
    "## 1) llm to tool calling llm node\n",
    "# Define llm\n",
    "llm=ChatGroq(model=\"qwen-2.5-32b\")\n",
    "\n",
    "# Define the function to form a chatbot node\n",
    "def chatbot(state:MessageState):\n",
    "    return {\"messages\":[llm.invoke(state[\"messages\"])]}\n",
    "\n",
    "\n",
    "# Define the function to form as a tool\n",
    "def multiply(a: int, b: int) -> int:\n",
    "    \"\"\"Multiply a and b.\n",
    "\n",
    "    Args:\n",
    "        a: first int\n",
    "        b: second int\n",
    "    \"\"\"\n",
    "    return a * b\n",
    "\n",
    "# Bind the tool with llm\n",
    "#llm_with_tools = llm.bind_tools([multiply])\n",
    "\n",
    "\n",
    "\n",
    "## 2) Build Graph\n",
    "builder = StateGraph(MessageState)\n",
    "\n",
    "# Create Node\n",
    "builder.add_node(\"chatbot\",chatbot)\n",
    "builder.add_node(\"tools\", ToolNode([multiply]))\n",
    "\n",
    "#  Create Edges\n",
    "builder.add_edge(START, \"chatbot\")\n",
    "\n",
    "# Conditional edges\n",
    "builder.add_conditional_edges(\n",
    "    \"chatbot\",\n",
    "    # If the latest message (result) from assistant is a tool call -> tools_condition routes to tools\n",
    "    # If the latest message (result) from assistant is a not a tool call -> tools_condition routes to END\n",
    "    tools_condition,\n",
    ")\n",
    "\n",
    "builder.add_edge(\"tools\", END)\n",
    "\n",
    "graph = builder.compile()\n",
    "\n",
    "# View\n",
    "display(Image(graph.get_graph().draw_mermaid_png()))"
   ]
  },
  {
   "cell_type": "markdown",
   "metadata": {},
   "source": [
    "Without tool call"
   ]
  },
  {
   "cell_type": "code",
   "execution_count": 29,
   "metadata": {},
   "outputs": [
    {
     "name": "stdout",
     "output_type": "stream",
     "text": [
      "================================\u001b[1m Human Message \u001b[0m=================================\n",
      "\n",
      "Who are you\n",
      "==================================\u001b[1m Ai Message \u001b[0m==================================\n",
      "\n",
      "I am Qwen, a large language model created by Alibaba Cloud. I can provide information, answer questions, and have conversations across a wide range of topics. How can I assist you today?\n"
     ]
    }
   ],
   "source": [
    "from langchain_core.messages import HumanMessage\n",
    "messages = [HumanMessage(content=\"Who are you\")]\n",
    "messages = graph.invoke({\"messages\": messages})\n",
    "for m in messages['messages']:\n",
    "    m.pretty_print()"
   ]
  },
  {
   "cell_type": "markdown",
   "metadata": {},
   "source": [
    "Tool should be called if the NLP question is like math"
   ]
  },
  {
   "cell_type": "code",
   "execution_count": 30,
   "metadata": {},
   "outputs": [
    {
     "name": "stdout",
     "output_type": "stream",
     "text": [
      "================================\u001b[1m Human Message \u001b[0m=================================\n",
      "\n",
      "Hello, what is 2 multiplied by 2? .\n",
      "==================================\u001b[1m Ai Message \u001b[0m==================================\n",
      "\n",
      "2 multiplied by 2 is 4.\n"
     ]
    }
   ],
   "source": [
    "from langchain_core.messages import HumanMessage\n",
    "messages = [HumanMessage(content=\"Hello, what is 2 multiplied by 2? .\")]\n",
    "messages = graph.invoke({\"messages\": messages})\n",
    "for m in messages['messages']:\n",
    "    m.pretty_print()"
   ]
  },
  {
   "cell_type": "markdown",
   "metadata": {},
   "source": [
    "OBSERVATION:\n",
    "\n",
    "Simple chatbot node is not having the ability to decide if it should call the tool or without toll so in the above example \"chatbot 2\" the chatbot node is converted as tool calling llm node and a tool node."
   ]
  }
 ],
 "metadata": {
  "kernelspec": {
   "display_name": "Python 3",
   "language": "python",
   "name": "python3"
  },
  "language_info": {
   "codemirror_mode": {
    "name": "ipython",
    "version": 3
   },
   "file_extension": ".py",
   "mimetype": "text/x-python",
   "name": "python",
   "nbconvert_exporter": "python",
   "pygments_lexer": "ipython3",
   "version": "3.12.0"
  }
 },
 "nbformat": 4,
 "nbformat_minor": 2
}
