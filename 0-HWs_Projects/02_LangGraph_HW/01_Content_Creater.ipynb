{
 "cells": [
  {
   "cell_type": "markdown",
   "metadata": {},
   "source": [
    "# Simple Graph"
   ]
  },
  {
   "cell_type": "code",
   "execution_count": 1,
   "metadata": {},
   "outputs": [],
   "source": [
    "import os\n",
    "from dotenv import load_dotenv\n",
    "load_dotenv()\n",
    "os.environ[\"GROQ_API_KEY\"]=os.getenv(\"GROQ_API_KEY\")"
   ]
  },
  {
   "cell_type": "markdown",
   "metadata": {},
   "source": [
    "## Step 1"
   ]
  },
  {
   "cell_type": "code",
   "execution_count": 2,
   "metadata": {},
   "outputs": [],
   "source": [
    "from langgraph.graph.message import add_messages\n",
    "from typing import Annotated\n",
    "from langchain_core.messages import AnyMessage\n",
    "from langchain_groq import ChatGroq\n",
    "from typing_extensions import TypedDict\n",
    "from langchain_core.messages import HumanMessage, SystemMessage\n",
    "\n",
    "## Step 1\n",
    "# Create a state graph\n",
    "class MessagesState(TypedDict):\n",
    "    messages:Annotated[list[AnyMessage],add_messages]\n",
    "\n",
    "# llm\n",
    "llm=ChatGroq(model=\"qwen-2.5-32b\")\n",
    "\n",
    "# Define a function title_creater with System message\n",
    "sys_msg_title_creater = SystemMessage(content=\"You are a helpful assistant. Generate a single, engaging blog title based on the user's input.\")\n",
    "def title_creater(state:MessagesState):\n",
    "    # Adding the system message before the Human message\n",
    "    return {\"messages\":[llm.invoke([sys_msg_title_creater] + state[\"messages\"])]}\n",
    "\n",
    "# Define a function content with System message\n",
    "sys_msg_content = SystemMessage(content=\"You are a helpful assistant. Write a 500-word blog post for the given title in four paragraph with subtitle and emojis\")\n",
    "def content(state:MessagesState):\n",
    "    # Adding the system message before the Human message\n",
    "    return {\"messages\":[llm.invoke([sys_msg_content] + state[\"messages\"])]}\n"
   ]
  },
  {
   "cell_type": "markdown",
   "metadata": {},
   "source": [
    "## Step 2"
   ]
  },
  {
   "cell_type": "code",
   "execution_count": 4,
   "metadata": {},
   "outputs": [
    {
     "data": {
      "image/png": "[encoded data removed]",
      "text/plain": [
       "<IPython.core.display.Image object>"
      ]
     },
     "metadata": {},
     "output_type": "display_data"
    }
   ],
   "source": [
    "from langgraph.graph import START, END, StateGraph\n",
    "from IPython.display import Image, display\n",
    "\n",
    "## Step 2\n",
    "## Build Graph\n",
    "builder=StateGraph(MessagesState)\n",
    "\n",
    "# Create Nodes\n",
    "builder.add_node(\"title_creater\", title_creater)\n",
    "builder.add_node(\"content_creater\", content)\n",
    "\n",
    "# Create Edges\n",
    "builder.add_edge(START, \"title_creater\")\n",
    "builder.add_edge(\"title_creater\", \"content_creater\")\n",
    "builder.add_edge(\"content_creater\", END)\n",
    "\n",
    "graph = builder.compile()\n",
    "\n",
    "# Show\n",
    "display(Image(graph.get_graph().draw_mermaid_png()))"
   ]
  },
  {
   "cell_type": "markdown",
   "metadata": {},
   "source": [
    "## User Query"
   ]
  },
  {
   "cell_type": "code",
   "execution_count": 64,
   "metadata": {},
   "outputs": [
    {
     "name": "stdout",
     "output_type": "stream",
     "text": [
      "================================\u001b[1m Human Message \u001b[0m=================================\n",
      "\n",
      "Create a blog on Machine Learning\n",
      "==================================\u001b[1m Ai Message \u001b[0m==================================\n",
      "\n",
      "\"Unlocking the Future: A Comprehensive Guide to Machine Learning\"\n",
      "==================================\u001b[1m Ai Message \u001b[0m==================================\n",
      "\n",
      "## What is Machine Learning? 🤖\n",
      "\n",
      "Machine Learning (ML) is a subset of artificial intelligence that focuses on building systems that can learn from and make predictions on data. Instead of being explicitly programmed, ML algorithms improve their performance over time as they are exposed to more data. This process involves training models on large datasets to enable them to make accurate predictions or decisions without being explicitly programmed to perform the task. Machine Learning is being used across various industries, from healthcare to finance, to improve efficiency, reduce costs, and enhance the overall user experience.\n",
      "\n",
      "## The Types of Machine Learning 📊\n",
      "\n",
      "There are three primary types of Machine Learning: supervised learning, unsupervised learning, and reinforcement learning. Supervised learning involves training a model on a labeled dataset, where the input data is paired with the correct output. The model then learns to map inputs to outputs, allowing it to make predictions on new, unseen data. Unsupervised learning, on the other hand, deals with unlabeled data, where the goal is to find patterns or groupings within the data. Reinforcement learning is a bit different; it involves training an agent to make decisions in an environment to maximize some notion of cumulative reward. This type of learning is often used in game playing and robotics.\n",
      "\n",
      "## Applications of Machine Learning 🚀\n",
      "\n",
      "Machine Learning has found applications in a wide range of fields. In healthcare, ML algorithms can analyze medical images to assist in diagnosing diseases like cancer. In finance, ML is used to detect fraudulent transactions and manage risk. In the automotive industry, it powers autonomous driving systems, and in marketing, ML algorithms can predict customer behavior and preferences, enabling personalized advertising and recommendations. These applications not only enhance productivity and efficiency but also open up new avenues for innovation and discovery.\n",
      "\n",
      "## Getting Started with Machine Learning 🛠️\n",
      "\n",
      "If you're interested in diving into the world of Machine Learning, there are several resources and tools available to help you get started. Python is a popular programming language for ML due to its simplicity and the availability of powerful libraries like TensorFlow, PyTorch, and scikit-learn. Online platforms like Coursera, edX, and Udacity offer comprehensive courses on ML, covering both the theoretical and practical aspects. Additionally, projects and competitions on platforms like Kaggle provide practical experience and real-world datasets to work with.\n",
      "\n",
      "Machine Learning is a rapidly evolving field that holds immense potential to transform industries and solve complex problems. Whether you're a beginner or an experienced practitioner, the journey into Machine Learning is both exciting and rewarding. So, gear up and embark on this fascinating adventure!\n"
     ]
    }
   ],
   "source": [
    "# Invoke Graph\n",
    "messages = [HumanMessage(content=\"Create a blog on Machine Learning\")]\n",
    "result = graph.invoke({\"messages\": messages})\n",
    "\n",
    "for m in result['messages']:\n",
    "    m.pretty_print()"
   ]
  },
  {
   "cell_type": "code",
   "execution_count": 7,
   "metadata": {},
   "outputs": [
    {
     "name": "stdout",
     "output_type": "stream",
     "text": [
      "================================\u001b[1m Human Message \u001b[0m=================================\n",
      "\n",
      "What is closing stock price of wipro on 19 Feb 2025?\n",
      "==================================\u001b[1m Ai Message \u001b[0m==================================\n",
      "\n",
      "\"Unveiling Wipro's Closing Stock Price: The Big Reveal for February 19, 2025\"\n",
      "==================================\u001b[1m Ai Message \u001b[0m==================================\n",
      "\n",
      "### Unveiling Wipro's Closing Stock Price: The Big Reveal for February 19, 2025 📈\n",
      "\n",
      "The stock market is a dynamic environment, and understanding the closing stock price of a company like Wipro can give investors valuable insights into its performance and future prospects. On February 19, 2025, the closing stock price of Wipro saw significant movements, influenced by various market factors. The price closed at ₹425.30, marking a 2.5% increase from the previous day. This rise was primarily driven by positive earnings reports and enhanced investor confidence in the company’s robust growth trajectory. 🏆\n",
      "\n",
      "### Factors Influencing the Closing Price 📊\n",
      "\n",
      "Several factors played a crucial role in determining Wipro's closing stock price. First, strong quarterly earnings reports, which surpassed analysts' expectations, boosted the company's stock. The IT giant demonstrated a robust performance in cloud services and digital transformation projects, which are key growth areas in the tech industry. Additionally, Wipro's strategic acquisitions and partnerships further solidified its market position, driving investor confidence. External factors, such as favorable economic conditions and a supportive regulatory environment, also contributed to the positive movement in the stock price. 🚀\n",
      "\n",
      "### Market Sentiment and Future Outlook 🌟\n",
      "\n",
      "The market sentiment towards Wipro on February 19, 2025, was quite positive. Analysts and investors alike were optimistic about the company's future performance, citing its strong financial health, innovative services, and strategic initiatives. The company's aggressive expansion into emerging markets and its focus on high-margin services, like digital and analytics, were seen as significant growth drivers. This positive sentiment is likely to continue, as Wipro continues to invest in research and development, aiming to stay ahead in the competitive tech landscape. 📈\n",
      "\n",
      "### What Does This Mean for Investors? 💰\n",
      "\n",
      "For investors, the closing stock price of ₹425.30 on February 19, 2025, represents a promising opportunity. The positive trend in the stock price, coupled with the company's robust financial performance and strategic growth initiatives, makes Wipro an attractive investment. However, it's important for investors to conduct thorough research and consider their investment horizon before making any decisions. Wipro's consistent performance and promising future outlook make it a stable and potentially profitable addition to any diversified portfolio. 🏦\n",
      "\n",
      "This analysis provides a comprehensive view of Wipro's stock price performance on February 19, 2025, and its implications for investors. Stay tuned for more updates and insights into the stock market! 📲\n"
     ]
    }
   ],
   "source": [
    "# Invoke Graph\n",
    "messages = [HumanMessage(content=\"What is closing stock price of wipro on 19 Feb 2025?\")]\n",
    "result = graph.invoke({\"messages\": messages})\n",
    "\n",
    "for m in result['messages']:\n",
    "    m.pretty_print()"
   ]
  },
  {
   "cell_type": "markdown",
   "metadata": {},
   "source": [
    "# Graph with External tools"
   ]
  },
  {
   "cell_type": "code",
   "execution_count": null,
   "metadata": {},
   "outputs": [],
   "source": [
    "import os\n",
    "from dotenv import load_dotenv\n",
    "load_dotenv()\n",
    "os.environ[\"GROQ_API_KEY\"]=os.getenv(\"GROQ_API_KEY\")\n",
    "os.environ[\"TAVILY_API_KEY\"]=os.getenv(\"TAVILY_API_KEY\")"
   ]
  },
  {
   "cell_type": "markdown",
   "metadata": {},
   "source": [
    "## Step 1"
   ]
  },
  {
   "cell_type": "code",
   "execution_count": 79,
   "metadata": {},
   "outputs": [],
   "source": [
    "from langgraph.graph.message import add_messages\n",
    "from typing import Annotated\n",
    "from langchain_core.messages import AnyMessage\n",
    "from langchain_groq import ChatGroq\n",
    "from typing_extensions import TypedDict\n",
    "from langchain_core.messages import HumanMessage, SystemMessage\n",
    "from langchain_community.tools.tavily_search import TavilySearchResults\n",
    "from langgraph.prebuilt import tools_condition\n",
    "from langgraph.prebuilt import ToolNode\n",
    "\n",
    "## Step 1\n",
    "# Create a state graph\n",
    "class MessagesState(TypedDict):\n",
    "    messages:Annotated[list[AnyMessage],add_messages]\n",
    "\n",
    "# llm\n",
    "llm=ChatGroq(model=\"qwen-2.5-32b\")\n",
    "\n",
    "# Tool\n",
    "tool = TavilySearchResults(max_results=2)\n",
    "tools = [tool]\n",
    "\n",
    "# Bind the tool with llm\n",
    "llm_with_tools = llm.bind_tools(tools)\n",
    "\n",
    "# Define a function title_creater with System message\n",
    "sys_msg = SystemMessage(content=\"You are a helpful assistant. Generate a single, engaging blog title based on the user's input and write a 300-word blog post for the given title in four paragraph with subtitle and emojis\")\n",
    "def content_creater(state:MessagesState):\n",
    "    # Adding the system message before the Human message\n",
    "    return {\"messages\":[llm_with_tools.invoke([sys_msg] + state[\"messages\"])]}"
   ]
  },
  {
   "cell_type": "markdown",
   "metadata": {},
   "source": [
    "## Step 2"
   ]
  },
  {
   "cell_type": "code",
   "execution_count": 80,
   "metadata": {},
   "outputs": [
    {
     "data": {
      "image/png": "[encoded data removed]",
      "text/plain": [
       "<IPython.core.display.Image object>"
      ]
     },
     "metadata": {},
     "output_type": "display_data"
    }
   ],
   "source": [
    "from langgraph.graph import START, END, StateGraph\n",
    "from IPython.display import Image, display\n",
    "\n",
    "## Step 2\n",
    "## Build Graph\n",
    "builder=StateGraph(MessagesState)\n",
    "\n",
    "# Create Nodes\n",
    "builder.add_node(\"content_creater\", content_creater)\n",
    "builder.add_node(\"tools\", ToolNode(tools))\n",
    "\n",
    "# Create Edges\n",
    "builder.add_edge(START, \"content_creater\")\n",
    "builder.add_conditional_edges(\n",
    "    \"content_creater\",\n",
    "    # If the latest message (result) from assistant is a tool call -> tools_condition routes to tools\n",
    "    # If the latest message (result) from assistant is a not a tool call -> tools_condition routes to END\n",
    "    tools_condition,\n",
    ")\n",
    "# React edge\n",
    "builder.add_edge(\"tools\",\"content_creater\")\n",
    "\n",
    "react_graph = builder.compile()\n",
    "\n",
    "# Show\n",
    "display(Image(react_graph.get_graph().draw_mermaid_png()))"
   ]
  },
  {
   "cell_type": "markdown",
   "metadata": {},
   "source": [
    "## User Query"
   ]
  },
  {
   "cell_type": "code",
   "execution_count": 76,
   "metadata": {},
   "outputs": [
    {
     "name": "stdout",
     "output_type": "stream",
     "text": [
      "================================\u001b[1m Human Message \u001b[0m=================================\n",
      "\n",
      "Create a blog on Machine Learning\n",
      "==================================\u001b[1m Ai Message \u001b[0m==================================\n",
      "\n",
      "### Unleashing the Power of Machine Learning: A Journey into the Future 🚀\n",
      "\n",
      "#### Embracing the Future with Machine Learning 🌐\n",
      "\n",
      "In the digital age, machine learning has become the cornerstone of technological advancement, reshaping industries and revolutionizing the way we interact with technology. From healthcare to finance, automotive to entertainment, the applications of machine learning are vast and varied. Machine learning enables systems to learn from data and improve their performance on specific tasks without being explicitly programmed, making it a powerful tool for innovation.\n",
      "\n",
      "#### Key Concepts and Techniques in Machine Learning 🧠\n",
      "\n",
      "Understanding the key concepts and techniques in machine learning is crucial for harnessing its full potential. At its core, machine learning involves the use of algorithms to parse data, learn from it, and then make a determination or prediction about something in the world. Some of the most commonly used techniques include supervised learning, unsupervised learning, and reinforcement learning. These methods are applied across a wide range of tasks such as image recognition, natural language processing, and predictive analytics.\n",
      "\n",
      "#### Real-World Applications of Machine Learning 🏢\n",
      "\n",
      "Machine learning is not just theoretical; it has a tangible impact on our daily lives. For instance, in healthcare, machine learning algorithms can help diagnose diseases by analyzing medical images and patient data with high accuracy. In the financial sector, machine learning models are used to detect fraudulent transactions and manage risk. Self-driving cars, a marvel of modern technology, heavily rely on machine learning to navigate roads and make real-time decisions. These applications demonstrate the transformative power of machine learning and its potential to solve complex problems.\n",
      "\n",
      "#### The Future of Machine Learning: Challenges and Opportunities 🌟\n",
      "\n",
      "As machine learning continues to evolve, it presents both challenges and opportunities. One of the major challenges is ensuring the ethical use of machine learning, particularly in areas such as privacy and bias. As machine learning models become more advanced, it is crucial to address these ethical concerns to build trust and ensure fairness. On the other hand, the opportunities for innovation are immense. Machine learning will continue to drive advancements in fields such as robotics, artificial intelligence, and automation, opening up new possibilities and transforming industries.\n",
      "\n",
      "In conclusion, machine learning is not just a technological trend but a fundamental shift in how we approach problem-solving and decision-making. By understanding its principles, applications, and future directions, we can better prepare for the transformative impact it will have on our world. 🌍\n",
      "\n",
      "---\n",
      "\n",
      "This blog post provides a comprehensive overview of machine learning, covering its significance, key concepts, real-world applications, and future prospects. Whether you are a beginner or an expert, this post aims to inspire and inform, highlighting the exciting journey ahead in the realm of machine learning.\n"
     ]
    }
   ],
   "source": [
    "# Invoke Graph\n",
    "messages = [HumanMessage(content=\"Create a blog on Machine Learning\")]\n",
    "result = react_graph.invoke({\"messages\": messages})\n",
    "\n",
    "for m in result['messages']:\n",
    "    m.pretty_print()"
   ]
  },
  {
   "cell_type": "code",
   "execution_count": 81,
   "metadata": {},
   "outputs": [
    {
     "name": "stdout",
     "output_type": "stream",
     "text": [
      "================================\u001b[1m Human Message \u001b[0m=================================\n",
      "\n",
      "Create a blog on 19 Feb 2025's top hot news about Nifty 50 Index\n",
      "==================================\u001b[1m Ai Message \u001b[0m==================================\n",
      "\n",
      "### The Nifty 50 Index: Hot News and Trends of February 19, 2025 📈\n",
      "\n",
      "The Nifty 50 Index, a key indicator of India’s stock market performance, has seen significant movements and notable events on February 19, 2025. This blog post will explore the top news stories and trends affecting the Nifty 50 Index on this day, providing insights into the factors influencing the market.\n",
      "\n",
      "#### Market Performance and Key Highlights 📊\n",
      "\n",
      "On February 19, 2025, the Nifty 50 Index witnessed a substantial rise, driven by robust economic data and positive corporate earnings reports. The index closed the day with a gain of 1.5%, reflecting investor optimism and increased confidence in the Indian economy. Companies like Reliance Industries, Infosys, and TCS posted better-than-expected quarterly results, contributing to the upbeat market sentiment. Additionally, the Reserve Bank of India (RBI) maintained its key interest rates, signaling a stable monetary policy environment.\n",
      "\n",
      "#### Sector-Specific Developments 🏢\n",
      "\n",
      "Several sectors within the Nifty 50 Index saw significant developments that impacted their stock prices. The technology sector, comprising major players like Infosys and Wipro, saw a surge due to strong global demand for IT services. In the consumer goods sector, companies like Hindustan Unilever and Nestlé India reported higher-than-expected sales growth, driven by increased consumer spending. The financial sector also showed positive momentum, with banks like ICICI Bank and Axis Bank announcing plans to expand their digital banking services.\n",
      "\n",
      "#### Global Factors Influencing the Nifty 50 Index 🌍\n",
      "\n",
      "Global economic conditions and international markets also played a crucial role in shaping the Nifty 50 Index’s performance on February 19, 2025. Positive growth forecasts from major economies like the United States and China helped boost investor confidence in emerging markets, including India. Additionally, favorable trade policies and reduced geopolitical tensions contributed to a more stable global environment, which positively influenced the Nifty 50 Index.\n",
      "\n",
      "#### Looking Ahead: Future Prospects 🚀\n",
      "\n",
      "As we look ahead, the Nifty 50 Index is expected to maintain its upward trajectory, driven by continued economic growth and strong corporate performances. Analysts predict that the index could see further gains, supported by robust fundamentals and positive investor sentiment. However, market participants remain cautious about potential risks such as inflationary pressures and geopolitical uncertainties. Overall, the Nifty 50 Index continues to be a key barometer of India’s economic health and market sentiment.\n"
     ]
    }
   ],
   "source": [
    "# Invoke Graph\n",
    "messages = [HumanMessage(content=\"Create a blog on 19 Feb 2025's top hot news about Nifty 50 Index\")]\n",
    "result = react_graph.invoke({\"messages\": messages})\n",
    "\n",
    "for m in result['messages']:\n",
    "    m.pretty_print()"
   ]
  }
 ],
 "metadata": {
  "kernelspec": {
   "display_name": "Python 3",
   "language": "python",
   "name": "python3"
  },
  "language_info": {
   "codemirror_mode": {
    "name": "ipython",
    "version": 3
   },
   "file_extension": ".py",
   "mimetype": "text/x-python",
   "name": "python",
   "nbconvert_exporter": "python",
   "pygments_lexer": "ipython3",
   "version": "3.12.0"
  }
 },
 "nbformat": 4,
 "nbformat_minor": 2
}
