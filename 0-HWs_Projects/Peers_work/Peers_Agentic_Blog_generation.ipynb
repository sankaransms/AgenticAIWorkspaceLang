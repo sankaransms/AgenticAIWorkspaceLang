{
  "cells": [
    {
      "cell_type": "code",
      "execution_count": null,
      "metadata": {
        "id": "kFkz9mMvQ6bc"
      },
      "outputs": [],
      "source": [
        "#!pip install -q langchain python-dotenv langchain-openai langchain-core langchain-community bs4 faiss-cpu pypdf arxiv pymupdf wikipedia lxml langchain_huggingface langchain-groq langgraph langgraph-cli[inmem]"
      ]
    },
    {
      "cell_type": "code",
      "execution_count": null,
      "metadata": {
        "id": "-JySNY8lcg-k"
      },
      "outputs": [],
      "source": [
        "from langchain_openai import ChatOpenAI\n",
        "from langchain_core.prompts import ChatPromptTemplate\n",
        "from langchain_core.messages import AIMessage, HumanMessage, AnyMessage\n",
        "from langgraph.graph import StateGraph, START, END\n",
        "from langgraph.graph.message import add_messages\n",
        "from typing_extensions import TypedDict\n",
        "from typing import Annotated\n",
        "from IPython.display import Image, display"
      ]
    },
    {
      "cell_type": "code",
      "execution_count": null,
      "metadata": {
        "id": "sy8O0Hh-Q-fN"
      },
      "outputs": [],
      "source": [
        "import os\n",
        "\n",
        "# from google.colab import userdata\n",
        "# os.environ[\"OPENAI_API_KEY\"]=userdata.get(\"OPENAI_API_KEY\")\n"
      ]
    },
    {
      "cell_type": "code",
      "execution_count": null,
      "metadata": {
        "id": "A7TZDAVeS9eR"
      },
      "outputs": [],
      "source": [
        "llm=ChatOpenAI(model=\"gpt-4o\")"
      ]
    },
    {
      "cell_type": "code",
      "execution_count": null,
      "metadata": {
        "id": "fKhfJY7MTeuZ"
      },
      "outputs": [],
      "source": [
        "title_prompt = ChatPromptTemplate.from_messages(\n",
        "    [\n",
        "        (\"system\", \"You are an expert in generating catchy and engaging blog titles. Based on the user's input, create a single compelling title that is clear, concise, and relevant to the topic.\"),\n",
        "        (\"user\", \"{input}\")\n",
        "    ]\n",
        ")"
      ]
    },
    {
      "cell_type": "code",
      "execution_count": null,
      "metadata": {
        "id": "a0hfTVO41bwv"
      },
      "outputs": [],
      "source": [
        "blog_prompt = ChatPromptTemplate.from_messages(\n",
        "    [\n",
        "        (\"system\", \"You are an expert blog writer. Your task is to generate a well-structured, engaging, and informative blog post based on the user's input. Ensure the content is clear, detailed, and relevant to the given topic.\"),\n",
        "        (\"user\", \"{input}\")\n",
        "    ]\n",
        ")"
      ]
    },
    {
      "cell_type": "code",
      "execution_count": null,
      "metadata": {
        "id": "3aUYoquUTvt0"
      },
      "outputs": [],
      "source": [
        "title_generator = title_prompt | llm\n",
        "blog_generator = blog_prompt | llm"
      ]
    },
    {
      "cell_type": "code",
      "execution_count": null,
      "metadata": {
        "id": "WMCJFHqT1q9f"
      },
      "outputs": [],
      "source": [
        "class MessageState(TypedDict):\n",
        "    messages: Annotated[list[AnyMessage], add_messages]"
      ]
    },
    {
      "cell_type": "code",
      "execution_count": null,
      "metadata": {
        "id": "w3D7sooFVFlq"
      },
      "outputs": [],
      "source": [
        "def generate_title(state: MessageState) -> MessageState:\n",
        "    user_input = state[\"messages\"][0].content\n",
        "    title_result = title_generator.invoke({\"input\": user_input})\n",
        "    return {\"messages\": state[\"messages\"] + [AIMessage(content=title_result.content)]}"
      ]
    },
    {
      "cell_type": "code",
      "execution_count": null,
      "metadata": {
        "id": "_0fAYOfvVhSY"
      },
      "outputs": [],
      "source": [
        "def generate_blog(state: MessageState) -> MessageState:\n",
        "    title_content = state[\"messages\"][-1].content\n",
        "    blog_result = blog_generator.invoke({\"input\": title_content})\n",
        "    return {\"messages\": state[\"messages\"] + [AIMessage(content=blog_result.content)]}"
      ]
    },
    {
      "cell_type": "code",
      "execution_count": null,
      "metadata": {
        "colab": {
          "base_uri": "https://localhost:8080/",
          "height": 350
        },
        "id": "dXdx8uOPV5zs",
        "outputId": "eac895df-a872-48cf-d3ee-4a35a8287a51"
      },
      "outputs": [
        {
          "data": {
            "image/png": "[encoded data removed]",
            "text/plain": [
              "<IPython.core.display.Image object>"
            ]
          },
          "metadata": {},
          "output_type": "display_data"
        }
      ],
      "source": [
        "# Build the state graph\n",
        "builder = StateGraph(MessageState)\n",
        "builder.add_node(\"generate_title\", generate_title)\n",
        "builder.add_node(\"generate_blog\", generate_blog)\n",
        "builder.add_edge(START, \"generate_title\")\n",
        "builder.add_edge(\"generate_title\", \"generate_blog\")\n",
        "builder.add_edge(\"generate_blog\", END)\n",
        "\n",
        "# Compile and visualize the graph\n",
        "graph = builder.compile()\n",
        "display(Image(graph.get_graph().draw_mermaid_png()))"
      ]
    },
    {
      "cell_type": "code",
      "execution_count": null,
      "metadata": {
        "colab": {
          "base_uri": "https://localhost:8080/"
        },
        "id": "-y4tKrDryvFj",
        "outputId": "c4372af3-79cf-453b-879a-43a75df552b0"
      },
      "outputs": [
        {
          "name": "stdout",
          "output_type": "stream",
          "text": [
            "================================\u001b[1m Human Message \u001b[0m=================================\n",
            "\n",
            "The impact of artificial intelligence on modern education\n",
            "==================================\u001b[1m Ai Message \u001b[0m==================================\n",
            "\n",
            "\"Revolutionizing Classrooms: How AI is Shaping the Future of Education\"\n",
            "==================================\u001b[1m Ai Message \u001b[0m==================================\n",
            "\n",
            "### Revolutionizing Classrooms: How AI is Shaping the Future of Education\n",
            "\n",
            "In recent years, Artificial Intelligence (AI) has emerged as a transformative force across various industries, and education is no exception. From personalized learning experiences to automating administrative tasks, AI is poised to revolutionize how we approach education. In this blog post, we will explore the profound impacts AI is having on classrooms today and what this means for the future of learning.\n",
            "\n",
            "#### Personalized Learning\n",
            "\n",
            "One of the most significant contributions AI offers to education is the ability to tailor learning experiences to individual student needs. Traditional educational models often adopt a one-size-fits-all approach, which can leave some students behind. AI systems can analyze each student's learning pace and style, providing customized resources and activities that cater to their strengths and weaknesses.\n",
            "\n",
            "For instance, platforms like DreamBox and Coursera use AI algorithms to assess a student's performance and adjust assignments accordingly, ensuring that students neither become overwhelmed nor under-challenged. This personalized approach increases student engagement and fosters a more profound understanding of the material.\n",
            "\n",
            "#### Intelligent Tutoring Systems\n",
            "\n",
            "AI-powered intelligent tutoring systems are another remarkable advancement. These systems employ machine learning techniques to offer one-on-one tutoring, often providing students with immediate feedback and assistance. Unlike traditional tutoring, these AI tutors are available 24/7, making it possible for students to access help whenever needed.\n",
            "\n",
            "An example of such technology is Carnegie Learning’s MATHia, which acts as a personal math coach that adapts to the student's level of comprehension, ensuring consistent progress. This kind of technology empowers students to take control of their learning, boosting confidence and academic performance.\n",
            "\n",
            "#### Enhanced Engagement and Interaction\n",
            "\n",
            "Incorporating AI into classrooms has also paved the way for more interactive and engaging educational experiences. Virtual reality (VR) and augmented reality (AR), powered by AI, have transformed how subjects like history and science are taught. Students can now explore ancient civilizations or conduct virtual lab experiments without leaving the classroom. This immersive approach makes learning more enjoyable and relatable.\n",
            "\n",
            "AI tools can also facilitate interactive Q&A sessions, where students can ask questions and receive instant responses. Such dynamic interaction keeps students actively involved in their learning journey, encouraging curiosity and deeper exploration of topics.\n",
            "\n",
            "#### Automating Administrative Tasks\n",
            "\n",
            "AI is not only revolutionizing how students learn but also redefining the roles of educators by relieving them of mundane administrative tasks. Tasks such as grading papers, scheduling, and managing class content can be partially or entirely automated, allowing teachers to focus more on personalized instruction and student interaction.\n",
            "\n",
            "For example, AI-driven platforms like Gradescope assist educators in managing assignments and grading them efficiently, reducing the time spent on these repetitive tasks. This automation allows teachers to dedicate more time to developing creative lesson plans and engaging with students.\n",
            "\n",
            "#### Addressing Learning Gaps and Inclusivity\n",
            "\n",
            "AI is instrumental in identifying and addressing learning gaps across diverse student groups. Machine learning algorithms can analyze vast amounts of educational data, pinpointing specific areas where students struggle. By leveraging this information, educators can develop strategic interventions to help students overcome these challenges.\n",
            "\n",
            "Moreover, AI promotes inclusivity by providing accessible learning tools for students with disabilities. Features like speech-to-text and text-to-speech technologies ensure that learning materials are accessible to all, fostering an inclusive educational environment.\n",
            "\n",
            "#### Preparing Students for the Future Workforce\n",
            "\n",
            "As AI continues to integrate into various sectors, preparing students for a future where AI skills are in high demand is crucial. Implementing AI-driven tools and systems in education familiarizes students with technology that will likely be a significant part of their professional lives. Students can develop problem-solving and critical thinking skills essential for navigating an AI-driven world.\n",
            "\n",
            "#### Challenges and Ethical Considerations\n",
            "\n",
            "While AI presents numerous benefits, its integration into education also raises challenges and ethical concerns. Data privacy, algorithmic bias, and the potential for decreased human interaction are critical issues that need addressing. Ensuring that AI systems uphold ethical standards and prioritize student welfare is paramount for the successful integration of AI in education.\n",
            "\n",
            "#### Conclusion\n",
            "\n",
            "AI is undeniably reshaping the landscape of education, offering unprecedented opportunities for personalized learning, engagement, and efficiency. As we continue to explore the potential of AI in classrooms, it is crucial to balance technological advancements with ethical considerations, ensuring that the future of education is inclusive and equitable for all students. Embracing AI in education not only enhances learning experiences but also equips students with the skills needed to thrive in a rapidly evolving world. The future of education is bright, and AI is lighting the way.\n"
          ]
        }
      ],
      "source": [
        "initial_message = HumanMessage(content=\"The impact of artificial intelligence on modern education\")\n",
        "state = {\"messages\": [initial_message]}\n",
        "final_state = graph.invoke(state)\n",
        "\n",
        "for m in final_state[\"messages\"]:\n",
        "    m.pretty_print()\n"
      ]
    }
  ],
  "metadata": {
    "colab": {
      "provenance": []
    },
    "kernelspec": {
      "display_name": "Python 3",
      "name": "python3"
    },
    "language_info": {
      "name": "python",
      "version": "3.12.0"
    }
  },
  "nbformat": 4,
  "nbformat_minor": 0
}
